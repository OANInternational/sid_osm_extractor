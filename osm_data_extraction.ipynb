{
 "metadata": {
  "language_info": {
   "codemirror_mode": {
    "name": "ipython",
    "version": 3
   },
   "file_extension": ".py",
   "mimetype": "text/x-python",
   "name": "python",
   "nbconvert_exporter": "python",
   "pygments_lexer": "ipython3",
   "version": "3.8.3-final"
  },
  "orig_nbformat": 2,
  "kernelspec": {
   "name": "Python 3.8.3 64-bit ('base': conda)",
   "display_name": "Python 3.8.3 64-bit ('base': conda)",
   "metadata": {
    "interpreter": {
     "hash": "b3ba2566441a7c06988d0923437866b63cedc61552a5af99d1f4fb67d367b25f"
    }
   }
  }
 },
 "nbformat": 4,
 "nbformat_minor": 2,
 "cells": [
  {
   "cell_type": "code",
   "execution_count": null,
   "metadata": {},
   "outputs": [],
   "source": [
    "import sys\n",
    "sys.path.append(\"..\")\n",
    "\n",
    "import pprint as pp\n",
    "import pandas as pd\n",
    "import matplotlib.pyplot as plt\n",
    "import matplotlib.colors as col\n",
    "import numpy as np\n",
    "import json\n",
    "# import geopandas as gpd\n",
    "# import geoplot as gpt\n",
    "\n",
    "from shapely.geometry import Point, Polygon\n",
    "from dotenv import load_dotenv\n",
    "\n",
    "import requests\n",
    "import os\n",
    "import math\n",
    "import pandas_gbq\n",
    "\n",
    "load_dotenv()\n",
    "\n",
    "# --------- OSM ---------\n",
    "\n",
    "from OSMPythonTools.api import Api  \n",
    "from OSMPythonTools.nominatim import Nominatim # Tool to search OSM data by name and address\n",
    "from OSMPythonTools.overpass import overpassQueryBuilder, Overpass # read-only API that serves up custom selected parts of the OSM map data\n",
    "\n",
    "from sid_modules.helperFunctions import BigQueryHelper, OSMQueryHelper\n",
    "\n",
    "bqh = BigQueryHelper()\n",
    "osh = OSMQueryHelper()"
   ]
  },
  {
   "cell_type": "code",
   "execution_count": null,
   "metadata": {},
   "outputs": [],
   "source": [
    "### **Districts of Nikki** (County)"
   ]
  },
  {
   "cell_type": "code",
   "execution_count": null,
   "metadata": {
    "tags": []
   },
   "outputs": [],
   "source": [
    "# Plot the districts \n",
    "district_df = bqh.loadDistricts()\n",
    "\n",
    "district_geodf = gpd.GeoDataFrame(district_df, geometry=\"polygon\")\n",
    "district_geodf.rename(columns={\"polygon\": \"geometry\"}, inplace=True)\n",
    "fig, ax = plt.subplots(1, 1,figsize=(15,15))\n",
    "\n",
    "district_geodf.plot(column=\"name\",  ax=ax, legend=False, cmap='Blues', figsize=(15,15))\n"
   ]
  },
  {
   "cell_type": "code",
   "execution_count": null,
   "metadata": {},
   "outputs": [],
   "source": [
    "### **Villages in Nikki** (County)"
   ]
  },
  {
   "cell_type": "code",
   "execution_count": null,
   "metadata": {
    "tags": []
   },
   "outputs": [],
   "source": [
    "# Get all villages in OSM\n",
    "new_village_df = osh.getVillagesFromOSM()\n",
    "\n",
    "# Show number of villages extracted\n",
    "new_village_df.shape"
   ]
  },
  {
   "cell_type": "code",
   "execution_count": null,
   "metadata": {
    "tags": []
   },
   "outputs": [],
   "source": [
    "# Load existing villages from BigQuery\n",
    "village_df = bqh.loadVillages()\n",
    "\n",
    "# Show number of villages currently in BigQuery\n",
    "village_df.shape"
   ]
  },
  {
   "cell_type": "code",
   "execution_count": null,
   "metadata": {},
   "outputs": [],
   "source": [
    "# Add missing villages in BigQuery df from the new villages in OSM\n",
    "for index, new_row in new_village_df.iterrows():\n",
    "  if not osh.isIdalready(village_df, new_row['osm_id']) :\n",
    "    village_df = village_df.append(new_row)\n",
    "\n",
    "# Update missing areas id\n",
    "osh.updateAreaIdOfDataframe(village_df)\n",
    "\n",
    "# Update missing buildings numbers\n",
    "# osh.getBuildingsInVillage(village_df)\n",
    "\n",
    "# Update county origin\n",
    "osh.updateDistrictOfVillage(district_df, village_df)"
   ]
  },
  {
   "cell_type": "code",
   "execution_count": null,
   "metadata": {},
   "outputs": [],
   "source": [
    "### **Buildings of Nikki** (County)"
   ]
  },
  {
   "cell_type": "code",
   "execution_count": null,
   "metadata": {
    "tags": []
   },
   "outputs": [],
   "source": [
    "# Villages selectect for POC\n",
    "villages_selected_id = [\n",
    "    377129182, # MONNON\n",
    "    737083662, # SANSI GANDÓ\n",
    "    738644153, # BESEN GOUROU\n",
    "    738657269, # BARKEDJE BARIKEDJE\n",
    "    745997907, # BOUDAL\n",
    "]"
   ]
  },
  {
   "cell_type": "code",
   "execution_count": null,
   "metadata": {
    "tags": []
   },
   "outputs": [],
   "source": [
    "building_headers = ['osm_id','type','district','village','lat', 'lon','perim','area','boundary_lat','boundary_lon','polygon', 'point']\n",
    "new_buildings_data = []\n",
    "\n",
    "# Loop throught all selected villages for the POC\n",
    "for vill_id in villages_selected_id:\n",
    "\n",
    "    # Extract the data from the current village\n",
    "    row = village_df.loc[village_df['osm_id'] == vill_id ]\n",
    "\n",
    "    # Get all the buildings inside the village\n",
    "    buildings = osh.get_buildings_in_village(row)\n",
    "    # Add all new buildings to the df data\n",
    "    new_buildings_data.extend(buildings)\n",
    "\n",
    "# Create Dataframe from data\n",
    "new_building_df = pd.DataFrame(new_buildings_data,   columns=building_headers)\n",
    "new_building_df.shape"
   ]
  },
  {
   "cell_type": "code",
   "execution_count": null,
   "metadata": {
    "tags": []
   },
   "outputs": [],
   "source": [
    "# Load existing buildings from BigQuery\n",
    "building_df = bqh.loadOSMBuildings()\n",
    "\n",
    "# Show number of buildings currently in BigQuery\n",
    "building_df.shape"
   ]
  },
  {
   "cell_type": "code",
   "execution_count": null,
   "metadata": {},
   "outputs": [],
   "source": [
    "# Add missing buildings in BigQuery df from the new buildings in OSM\n",
    "for index, new_row in new_building_df.iterrows():\n",
    "  if not osh.isIdalready(building_df,new_row['osm_id']) :\n",
    "    building_df = building_df.append(new_row)\n",
    "\n",
    "building_df.shape"
   ]
  },
  {
   "cell_type": "code",
   "execution_count": null,
   "metadata": {
    "tags": []
   },
   "outputs": [],
   "source": [
    "# Save buildings\n",
    "saveBuildings(building_df)"
   ]
  }
 ]
}